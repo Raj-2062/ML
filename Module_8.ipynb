{
  "nbformat": 4,
  "nbformat_minor": 0,
  "metadata": {
    "colab": {
      "provenance": [],
      "authorship_tag": "ABX9TyNjkpQeUsDdCEsxAafIPGNt",
      "include_colab_link": true
    },
    "kernelspec": {
      "name": "python3",
      "display_name": "Python 3"
    },
    "language_info": {
      "name": "python"
    }
  },
  "cells": [
    {
      "cell_type": "markdown",
      "metadata": {
        "id": "view-in-github",
        "colab_type": "text"
      },
      "source": [
        "<a href=\"https://colab.research.google.com/github/Raj-2062/ML/blob/main/Module_8.ipynb\" target=\"_parent\"><img src=\"https://colab.research.google.com/assets/colab-badge.svg\" alt=\"Open In Colab\"/></a>"
      ]
    },
    {
      "cell_type": "markdown",
      "source": [
        "**Class**"
      ],
      "metadata": {
        "id": "rYmHkhjcWdZZ"
      }
    },
    {
      "cell_type": "code",
      "execution_count": 35,
      "metadata": {
        "colab": {
          "base_uri": "https://localhost:8080/"
        },
        "id": "c5c5UpGmWZds",
        "outputId": "abcf477f-4dc8-4bc2-f83e-501939d2d69f"
      },
      "outputs": [
        {
          "output_type": "stream",
          "name": "stdout",
          "text": [
            "50\n",
            "50\n",
            "50\n",
            "Electronics\n",
            "Electronics\n",
            "Electronics\n"
          ]
        }
      ],
      "source": [
        "class Phone:# parant class\n",
        "  categori = \"Electronics\"### class attribute\n",
        "\n",
        "  # Construction\n",
        "  def __init__(self, model , battery, camera , bettery_percentage = 100):\n",
        "    self.model = model\n",
        "    self.battery = battery\n",
        "    self.camera = camera\n",
        "    self.bettery_percentage = bettery_percentage\n",
        "\n",
        "  ## Method\n",
        "  def charge(self,hour):\n",
        "    print(f\"chare is completed by {hour}\")\n",
        "\n",
        "  def  capture(self, total_photo):\n",
        "    if self.battery_percentage <=0:\n",
        "      print(\"no charge\")\n",
        "    else:\n",
        "      self.battery_percentage -= total_photo\n",
        "      print(\"Photo capture\")\n",
        "\n",
        "\n",
        "\n",
        "class Cooling_Mechanism:\n",
        "  def __init__(self, cooling_method):\n",
        "    self.cooling_method = cooling_method\n",
        "\n",
        "\n",
        "  #method or funtion\n",
        "  def cooling_on(self):\n",
        "    print(f\"the system is being cool by{self.cooling_method}\")\n",
        "\n",
        "\n",
        "\n",
        "\n",
        "#creating object\n",
        "\n",
        "blueberry = Phone(\"bh32\" ,12233, 50)\n",
        "\n",
        "motorola = Phone(\"n17\" ,12233, 50)\n",
        "\n",
        "apple = Phone(\"Iphone_17\" ,12233, 50)\n",
        "\n",
        "\n",
        "print(apple.camera)\n",
        "print(motorola.camera)\n",
        "print(blueberry.camera)\n",
        "\n",
        "print(apple.categori)\n",
        "print(motorola.categori)\n",
        "print(blueberry.categori)\n",
        "\n",
        "\n",
        "\n",
        "\n"
      ]
    },
    {
      "cell_type": "code",
      "source": [
        "# Inheritance\n",
        "\n",
        "class SmartPhone(Phone):## children class\n",
        "  def __init__(self, model , battery, camera, processor):\n",
        "    super().__init__(model , battery, camera) ### super e self dorker nai\n",
        "    self.processor = processor\n",
        "\n",
        "  def charge(self,hour):\n",
        "    print(\"fast charging in process\")\n",
        "    super().charge(hour)### super er maddhome eki namer parent classer funtion calll kora jasse eta na dile parrent funtion call hoto na\n",
        "\n",
        "\n",
        "\n",
        "pro = SmartPhone (\"X\", 5000, 100 ,\"Snap\")\n",
        "print(pro.model)\n",
        "pro.charge(1)"
      ],
      "metadata": {
        "colab": {
          "base_uri": "https://localhost:8080/"
        },
        "id": "oT6yx0i_Wpl0",
        "outputId": "3949f4a9-78da-46d7-92f7-65a3a388fff1"
      },
      "execution_count": 36,
      "outputs": [
        {
          "output_type": "stream",
          "name": "stdout",
          "text": [
            "X\n",
            "fast charging in process\n",
            "chare is completed by 1\n"
          ]
        }
      ]
    },
    {
      "cell_type": "code",
      "source": [
        "#### multipul inheritance\n",
        "\n",
        "class SmartPhone_CoolingMode(SmartPhone ,Cooling_Mechanism):\n",
        "  def __init__(self, model , battery, camera, processor, cooling_method):\n",
        "    SmartPhone.__init__(self, model , battery, camera, processor)### classer nam dia korle self dibaaaa\n",
        "    Cooling_Mechanism.__init__(self, cooling_method)\n",
        "\n",
        "\n",
        "pro_cooling = SmartPhone_CoolingMode(\"t\", 55 ,33,\"ds\",\"n\")\n",
        "print(pro_cooling.model)## smart phone class\n",
        "print(pro_cooling.cooling_method)## phone class\n",
        "print(pro_cooling.processor)# colling_mechanism class\n",
        "print(pro_cooling.cooling_on())## colling_mechanism class\n",
        "print(pro_cooling.charge(1))#SmartPhoner charge heta phone class theke inharite"
      ],
      "metadata": {
        "colab": {
          "base_uri": "https://localhost:8080/"
        },
        "id": "GpgEcSlbpM0t",
        "outputId": "2545a96a-5034-4670-ad09-3b6e1e5e9882"
      },
      "execution_count": 38,
      "outputs": [
        {
          "output_type": "stream",
          "name": "stdout",
          "text": [
            "t\n",
            "n\n",
            "ds\n",
            "the system is being cool byn\n",
            "None\n",
            "fast charging in process\n",
            "chare is completed by 1\n",
            "None\n"
          ]
        }
      ]
    },
    {
      "cell_type": "markdown",
      "source": [
        "**Polymorphism**"
      ],
      "metadata": {
        "id": "6W9X6hFGhq3T"
      }
    },
    {
      "cell_type": "code",
      "source": [
        "class Camera:\n",
        "  def __init__(self, name):\n",
        "    self.name = name\n",
        "  ## Method\n",
        "  def capture(self):\n",
        "    print(\"a photo is captured\")\n",
        "\n",
        "\n",
        "class Smart_Phone(Camera):\n",
        "  def __init__(self,name , resolution):\n",
        "    super().__init__(name)\n",
        "    self.resolution = resolution\n",
        "\n",
        "  def capture(self):###protiber parent classer method overriding hosse etai plymorphism\n",
        "    print(\"Photo is captured by smart_phone\")\n",
        "\n",
        "\n",
        "class DSLR(Camera):\n",
        "  def __init__(self,name , resolution):\n",
        "    super().__init__(name)\n",
        "    self.resolution = resolution\n",
        "\n",
        "  def capture(self):\n",
        "    print(\"Photo is captured by DSLR\")\n",
        "\n",
        "\n",
        "\n",
        "class Dron(Camera):\n",
        "  def __init__(self,name , resolution):\n",
        "    super().__init__(name)\n",
        "    self.resolution = resolution\n",
        "\n",
        "  def capture(self):\n",
        "    print(\"Photo is captured by Dron\")\n",
        "\n",
        "\n",
        "phone = Smart_Phone(\"Phone\" , 30)\n",
        "phone.capture()\n",
        "\n",
        "Dron = Dron(\"Dron\" , 30)\n",
        "Dron.capture()\n",
        "\n",
        "DSLR = DSLR(\"DSLR\" , 30)\n",
        "DSLR.capture()\n",
        "\n",
        ""
      ],
      "metadata": {
        "colab": {
          "base_uri": "https://localhost:8080/"
        },
        "id": "uNSyaPHIUj6H",
        "outputId": "5aa38fbd-8cec-4001-ab6b-5245b82d3334"
      },
      "execution_count": 40,
      "outputs": [
        {
          "output_type": "stream",
          "name": "stdout",
          "text": [
            "Photo is captured by smart_phone\n",
            "Photo is captured by Dron\n",
            "Photo is captured by DSLR\n"
          ]
        }
      ]
    },
    {
      "cell_type": "code",
      "source": [],
      "metadata": {
        "id": "4kPYjcCyBvdI"
      },
      "execution_count": null,
      "outputs": []
    },
    {
      "cell_type": "markdown",
      "source": [
        "**Encapsulation**"
      ],
      "metadata": {
        "id": "MAc4TYQRdHvZ"
      }
    },
    {
      "cell_type": "code",
      "source": [
        "##desiner part\n",
        "class Mobile:\n",
        "  def __init__(self, name ,mobile, imei):\n",
        "    self.__name = name\n",
        "    self.mobile = mobile\n",
        "    self.__imei = imei ## private attribute\n",
        "\n",
        "  def charge(self):\n",
        "    print(\"charging\")\n",
        "\n",
        "  def imei_getter(self):\n",
        "    return self.__imei### er maddome baire theke imei paua jabe\n",
        "\n",
        "  def name_getter(self):\n",
        "    return self.__name### er maddome baire theke name paua jabe mane dekha jabe\n",
        "\n",
        "  def name_setter(self,name):\n",
        "    self.__name = name### er maddome baire theke name set kora jabe,emei change kora jabe na bcz tar setter nai\n",
        "\n",
        "\n",
        "## user part\n",
        "\n",
        "Iphone = Mobile(\"phone\",\"15\", \"342123123\")\n",
        "\n",
        "print(Iphone.name_getter())\n",
        "print(Iphone.mobile)\n",
        "##print(Iphone.__imei)  ### kora jay na bcz privet\n",
        "print(Iphone.imei_getter())\n",
        "\n",
        "Iphone.name_setter(\"gkdd\")### nam poriborton korlam\n",
        "print(Iphone.name_getter())\n",
        "\n",
        "\n",
        "Iphone.name = \"ppp\"\n",
        "print(Iphone.name)"
      ],
      "metadata": {
        "colab": {
          "base_uri": "https://localhost:8080/"
        },
        "id": "4kU1IcnbdLYt",
        "outputId": "84718570-6226-453f-e699-72dcb842188c"
      },
      "execution_count": 3,
      "outputs": [
        {
          "output_type": "stream",
          "name": "stdout",
          "text": [
            "phone\n",
            "15\n",
            "342123123\n",
            "gkdd\n",
            "ppp\n"
          ]
        }
      ]
    },
    {
      "cell_type": "markdown",
      "source": [
        "**Abstraction**"
      ],
      "metadata": {
        "id": "T3vtQxsmpNFW"
      }
    },
    {
      "cell_type": "code",
      "source": [
        "from abc import ABC , abstractmethod\n",
        "class Telephone(ABC):\n",
        "  @abstractmethod\n",
        "  def make_call(self):\n",
        "    print(\"Making a call.\")\n",
        "\n",
        "\n",
        "\n",
        "\n",
        "class Sphone(Telephone):\n",
        "  def make_call(self):### ekhane Sphone class, abstract class (Telephone) k inherit korse but alada bhabe impliment korte hobe obossoi\n",
        "                      ### etai abstraction\n",
        "    print(\"Making a call.\")\n",
        "\n",
        "class Iphone(Telephone):\n",
        "  def make_call(self):### ekhane abstract class (Telephone) k inherit korse but alada bhabe impliment korte hobe obossoi\n",
        "    print(\"Making a call.\")\n",
        "\n",
        "\n",
        "ip = Iphone()\n",
        "ip.make_call()\n",
        "\n",
        "sp = Sphone()\n",
        "sp.make_call()"
      ],
      "metadata": {
        "colab": {
          "base_uri": "https://localhost:8080/"
        },
        "id": "ztuQ7xG2dxSL",
        "outputId": "1124a3d0-971f-4ee8-c7aa-78b174b75811"
      },
      "execution_count": 4,
      "outputs": [
        {
          "output_type": "stream",
          "name": "stdout",
          "text": [
            "Making a call.\n",
            "Making a call.\n"
          ]
        }
      ]
    },
    {
      "cell_type": "code",
      "source": [
        "import math\n",
        "\n",
        "class Shape:\n",
        "    def area(self):\n",
        "        return 0\n",
        "\n",
        "class Rectangle(Shape):\n",
        "    def __init__(self,w,h):\n",
        "        self.w=w\n",
        "        self.h=h\n",
        "\n",
        "    def area(self):\n",
        "        return self.w * self.h\n",
        "\n",
        "class Circle(Shape):\n",
        "    def __init__(self,r):\n",
        "        self.r=r\n",
        "\n",
        "    def area(self):\n",
        "        return math.pi* self.r*self.r\n",
        "\n",
        "\n",
        "data=input().split()\n",
        "sh_type=data[0]\n",
        "\n",
        "if sh_type ==\"Rectangle\":\n",
        "    w=float(data[1])\n",
        "    h=float(data[2])\n",
        "    s=Rectangle(w,h)\n",
        "elif sh_type ==\"Circle\":\n",
        "    r=float(data[1])\n",
        "    s=Circle(r)\n",
        "\n",
        "else:\n",
        "    s=Shape()\n",
        "print(f\"Area: {s.area():.2f}\")\n"
      ],
      "metadata": {
        "colab": {
          "base_uri": "https://localhost:8080/"
        },
        "id": "0rf097-Er4Vb",
        "outputId": "addf5b66-e9b4-406f-87d9-415868a263cc"
      },
      "execution_count": 2,
      "outputs": [
        {
          "output_type": "stream",
          "name": "stdout",
          "text": [
            "Rectangle 5 10\n",
            "Area: 50.00\n"
          ]
        }
      ]
    },
    {
      "cell_type": "code",
      "source": [],
      "metadata": {
        "id": "-_d8OKkilJ8Z"
      },
      "execution_count": null,
      "outputs": []
    }
  ]
}