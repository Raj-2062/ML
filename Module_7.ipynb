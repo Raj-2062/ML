{
  "nbformat": 4,
  "nbformat_minor": 0,
  "metadata": {
    "colab": {
      "provenance": [],
      "authorship_tag": "ABX9TyNC8/E/d5XtlEoJfG9qIIqO",
      "include_colab_link": true
    },
    "kernelspec": {
      "name": "python3",
      "display_name": "Python 3"
    },
    "language_info": {
      "name": "python"
    }
  },
  "cells": [
    {
      "cell_type": "markdown",
      "metadata": {
        "id": "view-in-github",
        "colab_type": "text"
      },
      "source": [
        "<a href=\"https://colab.research.google.com/github/Raj-2062/ML/blob/main/Module_7.ipynb\" target=\"_parent\"><img src=\"https://colab.research.google.com/assets/colab-badge.svg\" alt=\"Open In Colab\"/></a>"
      ]
    },
    {
      "cell_type": "markdown",
      "source": [
        "### **Open and Read**"
      ],
      "metadata": {
        "id": "P6ZJlATexnQD"
      }
    },
    {
      "cell_type": "code",
      "execution_count": null,
      "metadata": {
        "colab": {
          "base_uri": "https://localhost:8080/"
        },
        "id": "X0ALm4snlm1q",
        "outputId": "2070de4e-8eb8-4bca-9c42-38f8e22db5a9"
      },
      "outputs": [
        {
          "output_type": "stream",
          "name": "stdout",
          "text": [
            "1.My name is Raj.\n",
            "2.I am unmarried\n"
          ]
        }
      ],
      "source": [
        "## file open korer niom.2 ta .....\n",
        "## file reaaddddddddddddddddddddd\n",
        "## eta file auto off kore na\n",
        "file = open(\"./sample_data/sample.txt\",\"r\")\n",
        "content = file.read()\n",
        "\n",
        "\n",
        "print (content)"
      ]
    },
    {
      "cell_type": "code",
      "source": [
        "file = open(\"./sample_data/sample.txt\",\"r\")\n",
        "content = file.readlines() ## new line er opor deppend kore  list banay 1 line e show korbe\n",
        "print (content)\n",
        "print (file . closed)## file close ki na cheack koore\n",
        "\n",
        "file.close()### file close kore\n",
        "print (file . closed)## file close ki na cheack koore"
      ],
      "metadata": {
        "colab": {
          "base_uri": "https://localhost:8080/"
        },
        "id": "OibLRpyMmTOq",
        "outputId": "0432c083-a69d-40df-cbe9-51abccc7cfa1"
      },
      "execution_count": null,
      "outputs": [
        {
          "output_type": "stream",
          "name": "stdout",
          "text": [
            "['1.My name is Raj.\\n', '2.I am unmarried']\n",
            "False\n",
            "True\n"
          ]
        }
      ]
    },
    {
      "cell_type": "code",
      "source": [
        "file = open(\"./sample_data/sample.txt\",\"r\")\n",
        "content = file.readlines() ## new line er opor deppend kore  list banay 1 line e show korbe\n",
        "\n",
        "\n",
        "### ager coder resulte \\n ashtesilo a dur korer jonno map use korlam\n",
        "\n",
        "content = list(map(str.strip,content))\n",
        "print (content)\n",
        "#### ekhane filter ,lamda use kora jay\n",
        "\n",
        "file.close()## close  korer obbhash bhalo"
      ],
      "metadata": {
        "colab": {
          "base_uri": "https://localhost:8080/"
        },
        "id": "aMr6fjxT1ZKV",
        "outputId": "d2b2a8d7-e384-448b-bc2a-1d250c2339dd"
      },
      "execution_count": 2,
      "outputs": [
        {
          "output_type": "stream",
          "name": "stdout",
          "text": [
            "['My name is Raj.', 'I am unmarried']\n"
          ]
        }
      ]
    },
    {
      "cell_type": "code",
      "source": [
        "## with er maddhome open ,jar karone file auto bondho hoy alada file.close() kora lage na.\n",
        "\n",
        "with open(\"./sample_data/sample.txt\",\"r\") as file:\n",
        "  content = file.read()\n",
        "  print (content)\n",
        "print (file . closed)## file close ki na cheack koore"
      ],
      "metadata": {
        "colab": {
          "base_uri": "https://localhost:8080/"
        },
        "id": "7gHu8sfgndlG",
        "outputId": "7f791834-a48d-4e72-bc8b-a5f95c4f9b2a"
      },
      "execution_count": null,
      "outputs": [
        {
          "output_type": "stream",
          "name": "stdout",
          "text": [
            "1.My name is Raj.\n",
            "2.I am unmarried\n",
            "True\n"
          ]
        }
      ]
    },
    {
      "cell_type": "code",
      "source": [
        "## with er maddhome jar karone file auto bondho hoy alada file.close kora lage na.\n",
        "\n",
        "with open(\"./sample_data/sample.txt\",\"r\") as file:\n",
        "  for line in file:\n",
        "    print(line , end = \"\")##for loop er maddhome dekha jay line\n",
        "  for line in file:\n",
        "    l = line.strip()## line ta store hoy and line ta delet hoy\n",
        "############## alawys with dia file open korba"
      ],
      "metadata": {
        "colab": {
          "base_uri": "https://localhost:8080/"
        },
        "id": "tgEg8fdbmjyw",
        "outputId": "855d55ec-ef95-4595-e9ae-11c7f6010009"
      },
      "execution_count": null,
      "outputs": [
        {
          "output_type": "stream",
          "name": "stdout",
          "text": [
            "1.My name is Raj.\n",
            "2.I am unmarried"
          ]
        }
      ]
    },
    {
      "cell_type": "code",
      "source": [],
      "metadata": {
        "id": "EF9Z8zAOoU8n"
      },
      "execution_count": null,
      "outputs": []
    },
    {
      "cell_type": "markdown",
      "source": [
        "\n",
        "\n",
        "> **Write and Append**\n",
        "\n"
      ],
      "metadata": {
        "id": "uVMcy1vKx5EL"
      }
    },
    {
      "cell_type": "code",
      "source": [
        "### Creating a new file and writing\n",
        "### evabe korle over write hobe mane ager lekha mude jabe\n",
        "### Write by \"w\"\n",
        "with open(\"./sample_data/test.txt\",\"w\") as file:\n",
        "  file.write(\"Hello, I am Rajib.\\n\")\n",
        "  file .write(\"I love gaming.\\n\")\n",
        "\n",
        "\n",
        "\n",
        "\n"
      ],
      "metadata": {
        "id": "WrxHDQpAx-3b"
      },
      "execution_count": null,
      "outputs": []
    },
    {
      "cell_type": "code",
      "source": [
        "### Ebhbe creat korle and write korle ager lekha delet hobe\n",
        "### Append \"a\"\n",
        "with open(\"./sample_data/test.txt\",\"a\") as file:\n",
        "  file.write(\"Hello, I am Rajib.\\n\")\n",
        "  file .write(\"I love gaming.\")\n"
      ],
      "metadata": {
        "id": "IY6ui40e0GZE"
      },
      "execution_count": null,
      "outputs": []
    },
    {
      "cell_type": "code",
      "source": [
        "strings = [\"hello\" , \"hi\", \"good bye\", \"whats up\"]\n",
        "with open(\"./sample_data/test.txt\",\"a\") as file:\n",
        "  file.writelines(strings)"
      ],
      "metadata": {
        "id": "vZWWI_VdzOST"
      },
      "execution_count": null,
      "outputs": []
    },
    {
      "cell_type": "code",
      "source": [],
      "metadata": {
        "id": "w11S6JLx0wu3"
      },
      "execution_count": null,
      "outputs": []
    },
    {
      "cell_type": "markdown",
      "source": [
        "#### **File Pointer or Corsour**"
      ],
      "metadata": {
        "id": "Cs7qDon-3VZD"
      }
    },
    {
      "cell_type": "code",
      "source": [
        "## pointer mane jekhan thke read ba write shuru hoy\n",
        "with open(\"./sample_data/sample.txt\",\"r\") as file:\n",
        "  print(file.tell())### prothome cursor 0 te silo then read dile agay.\n",
        "  ### tell er maddhome cursor koi ase dekha jay\n",
        "  print(file.read(),end=\"\")\n",
        "  print(file.tell()) ### ekhane cursor 17 te but er por print dile kisu ashbe na\n",
        "  ## laste kisui nai\n",
        "\n",
        "  print(file.read(),end=\"\")\n",
        "\n",
        "\n"
      ],
      "metadata": {
        "colab": {
          "base_uri": "https://localhost:8080/"
        },
        "id": "A0kUGoNu3dbu",
        "outputId": "dca019e5-129d-4788-ca34-0f072da7fb4d"
      },
      "execution_count": null,
      "outputs": [
        {
          "output_type": "stream",
          "name": "stdout",
          "text": [
            "0\n",
            "My name is Raj.\n",
            "17\n"
          ]
        }
      ]
    },
    {
      "cell_type": "code",
      "source": [
        "with open(\"./sample_data/sample.txt\",\"r\") as file:\n",
        "  print(file.tell())### prothome cursor 0 te silo then read dile agay\n",
        "  print(file.read(5))\n",
        "  print(file.tell())\n",
        "\n",
        "  print(file.read(),end=\"\")### cursor 5 e thakay 5 theke pora shuru korse\n",
        "  print(file.tell())\n"
      ],
      "metadata": {
        "colab": {
          "base_uri": "https://localhost:8080/"
        },
        "id": "11BhM7BK35gj",
        "outputId": "a68a3c0f-d0b6-4480-c972-5fd428a7e5f6"
      },
      "execution_count": null,
      "outputs": [
        {
          "output_type": "stream",
          "name": "stdout",
          "text": [
            "0\n",
            "My na\n",
            "5\n",
            "me is Raj.\n",
            "17\n"
          ]
        }
      ]
    },
    {
      "cell_type": "code",
      "source": [
        "### SEEK er maddhome read use na koira shamner dike cursor k agano jay.\n",
        "with open(\"./sample_data/sample.txt\",\"r\") as file:\n",
        "  print(file.tell())### prothome cursor 0 te silo then read dile agay\n",
        "  print(file.seek(5))###   seek dia 5e nisi print dia dekhlam\n",
        "  print(file.tell())### dekhlam\n",
        "  print(file.seek(0))### seek dia pesoneu nea jay but read e jay na jemon 5 theke\n",
        "                     ### 0 te ashlam\n",
        "  print(file.tell())\n"
      ],
      "metadata": {
        "colab": {
          "base_uri": "https://localhost:8080/"
        },
        "id": "MOiR6Ra08bqP",
        "outputId": "8a15ebb6-ac1d-4ae7-9d4f-7e1eea0c392f"
      },
      "execution_count": null,
      "outputs": [
        {
          "output_type": "stream",
          "name": "stdout",
          "text": [
            "0\n",
            "5\n",
            "5\n",
            "0\n",
            "0\n"
          ]
        }
      ]
    },
    {
      "cell_type": "markdown",
      "source": [
        "**Some Problem**"
      ],
      "metadata": {
        "id": "mZ3ri7X0GP7F"
      }
    },
    {
      "cell_type": "code",
      "source": [
        "from functools import reduce ##reduce funtion use korer jonno\n",
        "with open(\"./sample_data/sample.txt\",\"r\") as file :\n",
        "  string_list = file . readlines()\n",
        "  print(string_list)## readlines() string banay dekhlam\n",
        "\n",
        "\n",
        "  # total line koita\n",
        "  total_lines = len(string_list)\n",
        "  print(total_lines)\n",
        "\n",
        "\n",
        "  # word ber korbo\n",
        "  number_of_words = list(map(lambda x : len(x.split()), string_list))\n",
        "  print(number_of_words) ## prottek line koyta word ase\n",
        "  ## reduse and lambdar maddhome list jog korilam\n",
        "  total_number_of_words = reduce(lambda x,y : x+y, number_of_words)\n",
        "  print(total_number_of_words)\n",
        "\n",
        "\n",
        "\n",
        "  ### character koyta eta ber korbo\n",
        "  ## pre processs\n",
        "  # \\n dlt korlam karon readlines()e seta thke jay\n",
        "  string_list = list(map(str.strip, string_list))\n",
        "  print(string_list)\n",
        "\n",
        "  # proti line koyta char ase\n",
        "  number_of_characters = list(map(lambda x: len(x),string_list))\n",
        "  print(number_of_characters)\n",
        "\n",
        "  # mot character by reduce\n",
        "  total_number_of_characters = reduce(lambda x , y : x+y, number_of_characters)\n",
        "  print(total_number_of_characters)\n",
        "\n",
        "\n",
        "###writing in a file\n",
        "with open(\"./sample_data/counter_of_string.txt\",\"w\") as file:\n",
        "  file.write(f\"total line : {total_lines}\\n total number of words:{total_number_of_characters}\\n total number of char: {total_number_of_characters} \")\n",
        "\n"
      ],
      "metadata": {
        "colab": {
          "base_uri": "https://localhost:8080/"
        },
        "id": "yD0ajWXX_kpi",
        "outputId": "e357b714-2fdc-48fa-8543-61fff380e748"
      },
      "execution_count": null,
      "outputs": [
        {
          "output_type": "stream",
          "name": "stdout",
          "text": [
            "['Hello world\\n', 'welcome to the world of Ai\\n', 'Tell me is this ok\\n', 'Is the era benificial?\\n', 'Yes it is']\n",
            "5\n",
            "[2, 6, 5, 4, 3]\n",
            "20\n",
            "['Hello world', 'welcome to the world of Ai', 'Tell me is this ok', 'Is the era benificial?', 'Yes it is']\n",
            "[11, 26, 18, 22, 9]\n",
            "86\n"
          ]
        }
      ]
    },
    {
      "cell_type": "code",
      "source": [
        "### w+ er maddhome read and write kora jay\n",
        "with open(\"./sample_data/write_read.txt\",\"w+\") as file:\n",
        "  file.write(\"Hello world\")\n",
        "  print(file.tell())\n",
        "  file.seek(0)\n",
        "  print(file.tell())\n",
        "\n",
        "  print(file.read())\n",
        "\n",
        "  file.truncate(5)## 5 er porer index theke shob delet\n",
        "\n",
        "  file.seek(0)\n",
        "  print(file.read())\n"
      ],
      "metadata": {
        "colab": {
          "base_uri": "https://localhost:8080/"
        },
        "id": "lv6-8_yuGZjs",
        "outputId": "8369fcac-4902-4ff3-fbbd-aeffe8b3551d"
      },
      "execution_count": null,
      "outputs": [
        {
          "output_type": "stream",
          "name": "stdout",
          "text": [
            "11\n",
            "0\n",
            "Hello world\n",
            "Hello\n"
          ]
        }
      ]
    },
    {
      "cell_type": "code",
      "source": [
        "#"
      ],
      "metadata": {
        "id": "zx7ti97ZyVUw"
      },
      "execution_count": null,
      "outputs": []
    },
    {
      "cell_type": "markdown",
      "source": [
        "**Exception**\n",
        "Run time e jeshob error ase shegula exception.\n",
        "run korer age syntax error hoy.\n",
        "jemon 10/0 disse input hishebe user jeta amra handle kori nai abong jar houer por program crush korbe,4gb jaygay 10gb load dea, abar ami funtion call korsi but import kori nai\n"
      ],
      "metadata": {
        "id": "o98tHqJf-Z98"
      }
    },
    {
      "cell_type": "code",
      "source": [
        "\n",
        "a = 10/0\n",
        "print(\"Hello world\")### error jar karon 10/0 impossible\n"
      ],
      "metadata": {
        "colab": {
          "base_uri": "https://localhost:8080/",
          "height": 159
        },
        "id": "lAo3OfDW-fpy",
        "outputId": "3da73bf0-1907-4d88-c67b-e13bf29d58fc"
      },
      "execution_count": null,
      "outputs": [
        {
          "output_type": "error",
          "ename": "ZeroDivisionError",
          "evalue": "division by zero",
          "traceback": [
            "\u001b[0;31m---------------------------------------------------------------------------\u001b[0m",
            "\u001b[0;31mZeroDivisionError\u001b[0m                         Traceback (most recent call last)",
            "\u001b[0;32m/tmp/ipython-input-3084694379.py\u001b[0m in \u001b[0;36m<cell line: 0>\u001b[0;34m()\u001b[0m\n\u001b[0;32m----> 1\u001b[0;31m \u001b[0ma\u001b[0m \u001b[0;34m=\u001b[0m \u001b[0;36m10\u001b[0m\u001b[0;34m/\u001b[0m\u001b[0;36m0\u001b[0m\u001b[0;34m\u001b[0m\u001b[0;34m\u001b[0m\u001b[0m\n\u001b[0m\u001b[1;32m      2\u001b[0m \u001b[0mprint\u001b[0m\u001b[0;34m(\u001b[0m\u001b[0;34m\"Hello world\"\u001b[0m\u001b[0;34m)\u001b[0m\u001b[0;34m\u001b[0m\u001b[0;34m\u001b[0m\u001b[0m\n",
            "\u001b[0;31mZeroDivisionError\u001b[0m: division by zero"
          ]
        }
      ]
    },
    {
      "cell_type": "code",
      "source": [
        "n = int(input())\n",
        "\n",
        "\n",
        "try:\n",
        "  a = 10/n\n",
        "except ZeroDivisionError:\n",
        "  print(\"You cant divide by zero\")\n",
        "\n",
        "print(\"Hello World\")"
      ],
      "metadata": {
        "colab": {
          "base_uri": "https://localhost:8080/"
        },
        "id": "i-IHduetAUvh",
        "outputId": "8784c115-7cc6-4dc0-a75b-7c8ecd891a20"
      },
      "execution_count": null,
      "outputs": [
        {
          "output_type": "stream",
          "name": "stdout",
          "text": [
            "0\n",
            "You cant divide by zero\n",
            "Hello World\n"
          ]
        }
      ]
    },
    {
      "cell_type": "code",
      "source": [
        "\n",
        "\n",
        "\n",
        "try:\n",
        "  x=y\n",
        "except Exception as e:\n",
        "  print(e)\n",
        "\n",
        "print(\"Hello World\")"
      ],
      "metadata": {
        "colab": {
          "base_uri": "https://localhost:8080/"
        },
        "id": "9QchKJJ3BB6D",
        "outputId": "5c66cc8b-4afa-4b61-880d-b5a9f48dc76a"
      },
      "execution_count": null,
      "outputs": [
        {
          "output_type": "stream",
          "name": "stdout",
          "text": [
            "name 'y' is not defined\n",
            "Hello World\n"
          ]
        }
      ]
    },
    {
      "cell_type": "code",
      "source": [
        "\n",
        "# error handle example\n",
        "# model train\n",
        "try:\n",
        "  file = open(\"./sample_data/data1.txt\", \"r\")\n",
        "\n",
        "except Exception as e:\n",
        "  print(e)\n",
        "else:  #### jodi try kore shofol hoy tobei ene dhukbe ar model tarin korbe ba onno kisu jmn ekhane read korlo.\n",
        "  print(file.read())\n",
        "finally:### try e dhukuk ar nai ba dhukuk etay dhukbe\n",
        "  print(\"stop stop  jemon Gpu\")"
      ],
      "metadata": {
        "colab": {
          "base_uri": "https://localhost:8080/"
        },
        "id": "-gCXzATDCDnx",
        "outputId": "8f82ce06-9753-46bd-d121-63c19d3a59d3"
      },
      "execution_count": null,
      "outputs": [
        {
          "output_type": "stream",
          "name": "stdout",
          "text": [
            "My name is Raj.\n",
            "stop stop  jemon Gpu\n"
          ]
        }
      ]
    },
    {
      "cell_type": "code",
      "source": [],
      "metadata": {
        "id": "OxDhWZgnCs3C"
      },
      "execution_count": null,
      "outputs": []
    }
  ]
}